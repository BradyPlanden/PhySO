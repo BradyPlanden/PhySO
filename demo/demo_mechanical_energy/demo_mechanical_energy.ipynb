{
 "cells": [
  {
   "cell_type": "markdown",
   "id": "1c819057-4781-4cfc-8d55-e3dcbc33687d",
   "metadata": {
    "pycharm": {
     "name": "#%% md\n"
    },
    "tags": []
   },
   "source": [
    "# $\\Phi$-SO demo"
   ]
  },
  {
   "cell_type": "markdown",
   "id": "e2390f38-ea65-4652-bfb7-0b29ed26a546",
   "metadata": {
    "pycharm": {
     "name": "#%% md\n"
    }
   },
   "source": [
    "## Packages import"
   ]
  },
  {
   "cell_type": "code",
   "execution_count": 1,
   "id": "7e3ee9d9-c786-4583-aa32-2fbc65584009",
   "metadata": {
    "pycharm": {
     "name": "#%%\n"
    }
   },
   "outputs": [],
   "source": [
    "# External packages\n",
    "import torch\n",
    "import numpy as np\n",
    "\n",
    "# Pyplot\n",
    "import matplotlib.pyplot as plt\n",
    "\n",
    "# Internal code import\n",
    "import physo\n",
    "from physo.learn import monitoring\n",
    "from physo.task  import benchmark"
   ]
  },
  {
   "cell_type": "code",
   "execution_count": 2,
   "id": "6b52eaea-6ca2-4d3e-a846-2eedcd932e56",
   "metadata": {
    "pycharm": {
     "name": "#%%\n"
    }
   },
   "outputs": [
    {
     "name": "stdout",
     "output_type": "stream",
     "text": [
      "cpu\n"
     ]
    }
   ],
   "source": [
    "# Device\n",
    "DEVICE = 'cpu'\n",
    "if torch.cuda.is_available():\n",
    "    DEVICE = 'cuda'\n",
    "print(DEVICE)"
   ]
  },
  {
   "cell_type": "code",
   "execution_count": 3,
   "id": "8c8890ee-a992-4bb6-a0ff-8847e82c99ab",
   "metadata": {
    "pycharm": {
     "name": "#%%\n"
    }
   },
   "outputs": [
    {
     "data": {
      "text/plain": [
       "False"
      ]
     },
     "execution_count": 3,
     "metadata": {},
     "output_type": "execute_result"
    }
   ],
   "source": [
    "torch.cuda.is_available()"
   ]
  },
  {
   "cell_type": "markdown",
   "id": "91946a7e-e7dd-446b-9de9-101c930e82ce",
   "metadata": {
    "pycharm": {
     "name": "#%% md\n"
    }
   },
   "source": [
    "## Test case"
   ]
  },
  {
   "cell_type": "markdown",
   "id": "8b86e756-bb8b-4e7c-b454-ff27ac42a633",
   "metadata": {},
   "source": [
    "#### Data points"
   ]
  },
  {
   "cell_type": "code",
   "execution_count": 4,
   "id": "23fcc22c-753b-4885-b305-0d277396d39a",
   "metadata": {
    "pycharm": {
     "name": "#%%\n"
    }
   },
   "outputs": [],
   "source": [
    "data_size = 50"
   ]
  },
  {
   "cell_type": "code",
   "execution_count": 5,
   "id": "06b4f66f-1699-4c7a-a22c-90304c8e7ae2",
   "metadata": {
    "pycharm": {
     "name": "#%%\n"
    }
   },
   "outputs": [],
   "source": [
    "# Data points\n",
    "data_lowbound, data_upbound = -10, 10\n",
    "z  = np.random.uniform(data_lowbound, data_upbound, data_size)\n",
    "vz = np.random.uniform(data_lowbound, data_upbound, data_size)\n",
    "x0_array = z\n",
    "x1_array = vz\n",
    "X_array = np.stack((x0_array, x1_array), axis=0)\n",
    "m = 1.5\n",
    "g = 9.8\n",
    "y_array = m*g*z + m*vz**2 #+ 0.5*m*vz**2"
   ]
  },
  {
   "cell_type": "code",
   "execution_count": 6,
   "id": "a796039f-fdbb-4991-bc58-3fcb92cae589",
   "metadata": {
    "pycharm": {
     "name": "#%%\n"
    }
   },
   "outputs": [
    {
     "data": {
      "image/png": "[encoded data removed]",
      "text/plain": [
       "<Figure size 1000x500 with 2 Axes>"
      ]
     },
     "metadata": {},
     "output_type": "display_data"
    }
   ],
   "source": [
    "n_dim = X_array.shape[0]\n",
    "fig, ax = plt.subplots(n_dim, 1, figsize=(10,5))\n",
    "for i in range (n_dim):\n",
    "    curr_ax = ax if n_dim==1 else ax[i]\n",
    "    curr_ax.plot(X_array[i], y_array, 'k.',)\n",
    "    curr_ax.set_xlabel(\"X[%i]\"%(i))\n",
    "    curr_ax.set_ylabel(\"y\")\n",
    "plt.show()"
   ]
  },
  {
   "cell_type": "markdown",
   "id": "685c3242-6792-4e59-8a6b-1f472de172ff",
   "metadata": {},
   "source": [
    "#### Sending data to device"
   ]
  },
  {
   "cell_type": "code",
   "execution_count": 7,
   "id": "ca6b2f73-80c3-4f55-9866-f0297b81087f",
   "metadata": {
    "pycharm": {
     "name": "#%%\n"
    }
   },
   "outputs": [],
   "source": [
    "# ------ Vectors ------\n",
    "# Stack of all input variables\n",
    "X = torch.tensor(X_array).to(DEVICE)\n",
    "# Output of symbolic function to guess\n",
    "y = torch.tensor(y_array).to(DEVICE)\n",
    "\n",
    "# ------ Constants ------\n",
    "const1 = torch.tensor(np.array(1.)).to(DEVICE)\n",
    "m = torch.tensor(np.array(m)).to(DEVICE)\n",
    "g = torch.tensor(np.array(g)).to(DEVICE)"
   ]
  },
  {
   "cell_type": "markdown",
   "id": "058939ea-1550-4f41-87cf-a6d879d51102",
   "metadata": {
    "pycharm": {
     "name": "#%% md\n"
    }
   },
   "source": [
    "## Run config"
   ]
  },
  {
   "cell_type": "markdown",
   "id": "07990a3b-14c5-4c4a-b54a-908f7cb259d4",
   "metadata": {
    "pycharm": {
     "name": "#%% md\n"
    }
   },
   "source": [
    "### Library config"
   ]
  },
  {
   "cell_type": "code",
   "execution_count": 8,
   "id": "f8666ce1-dfb1-4ee9-8695-2bcb76f26e7b",
   "metadata": {
    "pycharm": {
     "name": "#%%\n"
    }
   },
   "outputs": [],
   "source": [
    "args_make_tokens = {\n",
    "                # operations\n",
    "                \"op_names\"             : [\"mul\", \"add\", \"sub\", \"div\", \"inv\", \"n2\", \"sqrt\", \"exp\", \"log\", \"sin\", \"cos\"],\n",
    "                \"use_protected_ops\"    : True,\n",
    "                # input variables\n",
    "                \"input_var_ids\"        : {\"z\" : 0         , \"v\" : 1         , },\n",
    "                \"input_var_units\"      : {\"z\" : [1, 0, 0] , \"v\" : [1, -1, 0], },\n",
    "                \"input_var_complexity\" : {\"z\" : 1.        , \"v\" : 1.        , },\n",
    "                # constants\n",
    "                \"constants\"            : {\"1\" : const1    , },\n",
    "                \"constants_units\"      : {\"1\" : [0, 0, 0] , },\n",
    "                \"constants_complexity\" : {\"1\" : 1.        , },\n",
    "                # free constants\n",
    "                \"free_constants\"            : {\"m\"              , \"g\"              ,},\n",
    "                \"free_constants_init_val\"   : {\"m\" : 1.         , \"g\" : 1.         ,},\n",
    "                \"free_constants_units\"      : {\"m\" : [0, 0, 1]  , \"g\" : [1, -2, 0] ,},\n",
    "                \"free_constants_complexity\" : {\"m\" : 1.         , \"g\" : 1.         ,},\n",
    "                    }\n",
    "\n",
    "library_config = {\"args_make_tokens\"  : args_make_tokens,\n",
    "                  \"superparent_units\" : [2, -2, 1],\n",
    "                  \"superparent_name\"  : \"E\",\n",
    "                }"
   ]
  },
  {
   "cell_type": "markdown",
   "id": "e4711b53",
   "metadata": {
    "pycharm": {
     "name": "#%% md\n"
    }
   },
   "source": [
    "### Learning config"
   ]
  },
  {
   "cell_type": "code",
   "execution_count": 9,
   "id": "68f51b4b",
   "metadata": {
    "collapsed": false,
    "jupyter": {
     "outputs_hidden": false
    },
    "pycharm": {
     "name": "#%%\n"
    }
   },
   "outputs": [],
   "source": [
    "reward_config = {\n",
    "                 \"reward_function\"     : physo.physym.reward.SquashedNRMSE, # PHYSICALITY\n",
    "                 \"zero_out_unphysical\" : True,\n",
    "                 \"zero_out_duplicates\" : False,\n",
    "                 \"keep_lowest_complexity_duplicate\" : False,\n",
    "                }"
   ]
  },
  {
   "cell_type": "code",
   "execution_count": 10,
   "id": "ff943989",
   "metadata": {
    "collapsed": false,
    "jupyter": {
     "outputs_hidden": false
    },
    "pycharm": {
     "name": "#%%\n"
    }
   },
   "outputs": [],
   "source": [
    "BATCH_SIZE = int(1e3)\n",
    "MAX_LENGTH = 35\n",
    "GET_OPTIMIZER = lambda model : torch.optim.Adam(\n",
    "                                    model.parameters(),                \n",
    "                                    lr=0.0025, #0.001, #0.0050, #0.0005, #1,  #lr=0.0025\n",
    "                                                )"
   ]
  },
  {
   "cell_type": "code",
   "execution_count": 11,
   "id": "a8c12168",
   "metadata": {
    "collapsed": false,
    "jupyter": {
     "outputs_hidden": false
    },
    "pycharm": {
     "name": "#%%\n"
    }
   },
   "outputs": [],
   "source": [
    "learning_config = {\n",
    "    # Batch related\n",
    "    'batch_size'       : BATCH_SIZE,\n",
    "    'max_time_step'    : MAX_LENGTH,\n",
    "    'n_epochs'         : int(1e9),\n",
    "    # Loss related\n",
    "    'gamma_decay'      : 0.7,\n",
    "    'entropy_weight'   : 0.005,\n",
    "    # Reward related\n",
    "    'risk_factor'      : 0.05,\n",
    "    'rewards_computer' : physo.physym.reward.make_RewardsComputer (**reward_config),\n",
    "    # Optimizer\n",
    "    'get_optimizer'    : GET_OPTIMIZER,\n",
    "    'observe_units'    : True,\n",
    "}"
   ]
  },
  {
   "cell_type": "markdown",
   "id": "b5991694",
   "metadata": {
    "pycharm": {
     "name": "#%% md\n"
    }
   },
   "source": [
    "### Free constant optimizer config"
   ]
  },
  {
   "cell_type": "code",
   "execution_count": 12,
   "id": "61b59d31",
   "metadata": {
    "collapsed": false,
    "jupyter": {
     "outputs_hidden": false
    },
    "pycharm": {
     "name": "#%%\n"
    }
   },
   "outputs": [],
   "source": [
    "free_const_opti_args = {\n",
    "            'loss'   : \"MSE\",\n",
    "            'method' : 'LBFGS',\n",
    "            'method_args': {\n",
    "                        'n_steps' : 15,\n",
    "                        'tol'     : 1e-8,\n",
    "                        'lbfgs_func_args' : {\n",
    "                            'max_iter'       : 4,\n",
    "                            'line_search_fn' : \"strong_wolfe\",\n",
    "                                             },\n",
    "                            },\n",
    "        }"
   ]
  },
  {
   "cell_type": "markdown",
   "id": "cc624c08-92d7-473f-b24c-1e63ef50e340",
   "metadata": {
    "pycharm": {
     "name": "#%% md\n"
    }
   },
   "source": [
    "### Priors config"
   ]
  },
  {
   "cell_type": "code",
   "execution_count": 13,
   "id": "629557bb-8932-4bcb-b1f9-3214cb0a7938",
   "metadata": {
    "pycharm": {
     "name": "#%%\n"
    }
   },
   "outputs": [],
   "source": [
    "priors_config  = [\n",
    "                #(\"UniformArityPrior\", None),\n",
    "                # LENGTH RELATED\n",
    "                (\"HardLengthPrior\"  , {\"min_length\": 4, \"max_length\": MAX_LENGTH, }),\n",
    "                (\"SoftLengthPrior\"  , {\"length_loc\": 6, \"scale\": 5, }),\n",
    "                # RELATIONSHIPS RELATED\n",
    "                (\"NoUselessInversePrior\"  , None),\n",
    "                (\"PhysicalUnitsPrior\", {\"prob_eps\": np.finfo(np.float32).eps}), # PHYSICALITY\n",
    "                #(\"NestedFunctions\", {\"functions\":[\"exp\",], \"max_nesting\" : 1}),\n",
    "                #(\"NestedFunctions\", {\"functions\":[\"log\",], \"max_nesting\" : 1}),\n",
    "                (\"NestedTrigonometryPrior\", {\"max_nesting\" : 1}),\n",
    "                (\"OccurrencesPrior\", {\"targets\" : [\"1\",], \"max\" : [3,] }),\n",
    "                 ]"
   ]
  },
  {
   "cell_type": "markdown",
   "id": "85f08d15-7325-4841-aebe-016a4f2978a8",
   "metadata": {
    "pycharm": {
     "name": "#%% md\n"
    }
   },
   "source": [
    "### Cell config"
   ]
  },
  {
   "cell_type": "code",
   "execution_count": 14,
   "id": "e433da57",
   "metadata": {
    "collapsed": false,
    "jupyter": {
     "outputs_hidden": false
    },
    "pycharm": {
     "name": "#%%\n"
    }
   },
   "outputs": [],
   "source": [
    "cell_config = {\n",
    "    \"hidden_size\" : 128,\n",
    "    \"n_layers\"    : 1,\n",
    "    \"is_lobotomized\" : False,\n",
    "}"
   ]
  },
  {
   "cell_type": "markdown",
   "id": "39e90708",
   "metadata": {
    "pycharm": {
     "name": "#%% md\n"
    }
   },
   "source": [
    "### Logger"
   ]
  },
  {
   "cell_type": "code",
   "execution_count": 15,
   "id": "13405809",
   "metadata": {
    "collapsed": false,
    "jupyter": {
     "outputs_hidden": false
    },
    "pycharm": {
     "name": "#%%\n"
    }
   },
   "outputs": [],
   "source": [
    "save_path_training_curves = 'demo_curves.png'\n",
    "save_path_log             = 'demo.log'\n",
    "\n",
    "run_logger     = monitoring.RunLogger(save_path = save_path_log, \n",
    "                                      do_save = True)\n",
    "\n",
    "run_visualiser = monitoring.RunVisualiser (epoch_refresh_rate = 10,\n",
    "                                           save_path = save_path_training_curves,\n",
    "                                           do_show   = False,\n",
    "                                           do_prints = True,\n",
    "                                           do_save   = True, )"
   ]
  },
  {
   "cell_type": "markdown",
   "id": "400eb0d0",
   "metadata": {
    "pycharm": {
     "name": "#%% md\n"
    }
   },
   "source": [
    "### Run config"
   ]
  },
  {
   "cell_type": "code",
   "execution_count": 16,
   "id": "2648c799",
   "metadata": {
    "collapsed": false,
    "jupyter": {
     "outputs_hidden": false
    },
    "pycharm": {
     "name": "#%%\n"
    }
   },
   "outputs": [],
   "source": [
    "run_config = {\n",
    "    \"learning_config\"      : learning_config,\n",
    "    \"reward_config\"        : reward_config,\n",
    "    \"free_const_opti_args\" : free_const_opti_args,\n",
    "    \"library_config\"       : library_config,\n",
    "    \"priors_config\"        : priors_config,\n",
    "    \"cell_config\"          : cell_config,\n",
    "    \"run_logger\"           : run_logger,\n",
    "    \"run_visualiser\"       : run_visualiser,\n",
    "}"
   ]
  },
  {
   "cell_type": "markdown",
   "id": "3f7d84b8",
   "metadata": {
    "pycharm": {
     "name": "#%% md\n"
    }
   },
   "source": [
    "## Dummy epoch for prior tuning"
   ]
  },
  {
   "cell_type": "code",
   "execution_count": 17,
   "id": "0c48b2af",
   "metadata": {
    "collapsed": false,
    "jupyter": {
     "outputs_hidden": false
    },
    "pycharm": {
     "name": "#%%\n"
    }
   },
   "outputs": [
    {
     "data": {
      "image/png": "[encoded data removed]",
      "text/plain": [
       "<Figure size 1400x700 with 2 Axes>"
      ]
     },
     "metadata": {},
     "output_type": "display_data"
    },
    {
     "data": {
      "image/png": "[encoded data removed]",
      "text/plain": [
       "<Figure size 1400x700 with 2 Axes>"
      ]
     },
     "metadata": {},
     "output_type": "display_data"
    }
   ],
   "source": [
    "benchmark.dummy_epoch(X, y, run_config)"
   ]
  },
  {
   "cell_type": "markdown",
   "id": "6499d575",
   "metadata": {
    "pycharm": {
     "name": "#%% md\n"
    }
   },
   "source": [
    "## Run"
   ]
  },
  {
   "cell_type": "code",
   "execution_count": 18,
   "id": "264e4870",
   "metadata": {
    "collapsed": false,
    "jupyter": {
     "outputs_hidden": false
    },
    "pycharm": {
     "name": "#%%\n"
    },
    "scrolled": true,
    "tags": []
   },
   "outputs": [
    {
     "name": "stdout",
     "output_type": "stream",
     "text": [
      "Unable to make visualisation plots.\n",
      "Unable to save pareto figure.\n",
      "=========== Epoch 00000 ===========\n",
      "-> Time 1.28 s\n",
      "\n",
      "Overall best  at R=0.620294\n",
      "-> Raw expression : \n",
      "      ⎛     ⎛               2⎞⎞\n",
      "      ⎜     ⎜⎛ ⎛         2⎞⎞ ⎟⎟\n",
      "      ⎜     ⎜⎜ ⎜⎛ 0.5  2⎞ ⎟⎟ ⎟⎟\n",
      "      ⎜     ⎜⎜ ⎝⎝1   ⋅1 ⎠ ⎠⎟ ⎟⎟\n",
      "      ⎜     ⎝⎝ℯ            ⎠ ⎠⎟\n",
      "g⋅m⋅z⋅⎝1 + ℯ                  ⎠\n",
      "\n",
      "Best of epoch at R=0.620294\n",
      "-> Raw expression : \n",
      "      ⎛     ⎛               2⎞⎞\n",
      "      ⎜     ⎜⎛ ⎛         2⎞⎞ ⎟⎟\n",
      "      ⎜     ⎜⎜ ⎜⎛ 0.5  2⎞ ⎟⎟ ⎟⎟\n",
      "      ⎜     ⎜⎜ ⎝⎝1   ⋅1 ⎠ ⎠⎟ ⎟⎟\n",
      "      ⎜     ⎝⎝ℯ            ⎠ ⎠⎟\n",
      "g⋅m⋅z⋅⎝1 + ℯ                  ⎠\n",
      "\n",
      "\n"
     ]
    },
    {
     "name": "stderr",
     "output_type": "stream",
     "text": [
      "\n",
      "KeyboardInterrupt\n",
      "\n"
     ]
    },
    {
     "name": "stdout",
     "output_type": "stream",
     "text": [
      "Error in callback <function flush_figures at 0x135b7eca0> (for post_execute):\n"
     ]
    },
    {
     "name": "stderr",
     "output_type": "stream",
     "text": [
      "\n",
      "KeyboardInterrupt\n",
      "\n"
     ]
    }
   ],
   "source": [
    "rewards, candidates = physo.fit (X, y, run_config,\n",
    "                                stop_reward = 0.9999, \n",
    "                                stop_after_n_epochs = 5)"
   ]
  },
  {
   "cell_type": "code",
   "execution_count": null,
   "id": "32aaa717-8fea-4ec2-a3a7-5f0ddec37d2c",
   "metadata": {
    "pycharm": {
     "name": "#%%\n"
    },
    "tags": []
   },
   "outputs": [],
   "source": []
  },
  {
   "cell_type": "markdown",
   "id": "134053b0-093c-4da3-b9ad-bea874c5c447",
   "metadata": {
    "pycharm": {
     "name": "#%% md\n"
    }
   },
   "source": [
    "## Results"
   ]
  },
  {
   "cell_type": "markdown",
   "id": "33e55ee3-7655-4c22-bf06-e742b1a780a8",
   "metadata": {
    "pycharm": {
     "name": "#%% md\n"
    }
   },
   "source": [
    "### Run plot"
   ]
  },
  {
   "cell_type": "code",
   "execution_count": null,
   "id": "1ebacee6-677e-455f-8dea-b6b3e0931e06",
   "metadata": {
    "pycharm": {
     "name": "#%%\n"
    }
   },
   "outputs": [],
   "source": [
    "run_visualiser.make_visualisation()\n",
    "run_visualiser.save_visualisation()\n",
    "run_visualiser.save_data()"
   ]
  },
  {
   "cell_type": "markdown",
   "id": "1084b1c8-8e73-444c-b8d2-f2dd3345c76e",
   "metadata": {
    "pycharm": {
     "name": "#%% md\n"
    }
   },
   "source": [
    "### Pareto Front"
   ]
  },
  {
   "cell_type": "code",
   "execution_count": null,
   "id": "a51a5d79-5bcf-450a-87b4-108dc391e1e5",
   "metadata": {
    "pycharm": {
     "name": "#%%\n"
    }
   },
   "outputs": [],
   "source": [
    "def plot_pareto_front(run_logger,\n",
    "                      do_simplify                   = True,\n",
    "                      show_superparent_at_beginning = True,\n",
    "                      eq_text_size                  = 12,\n",
    "                      delta_xlim                    = [0, 5 ],\n",
    "                      delta_ylim                    = [0, 15],\n",
    "                      frac_delta_equ                = [0.03, 0.03],\n",
    "                      figsize                       = (20, 10),\n",
    "                     ):\n",
    "\n",
    "    pareto_front_complexities, pareto_front_programs, pareto_front_r, pareto_front_rmse = run_logger.get_pareto_front()\n",
    "\n",
    "    pareto_front_rmse = pareto_front_rmse\n",
    "    # Fig params\n",
    "    plt.rc('text', usetex=True)\n",
    "    plt.rc('font', family='serif')\n",
    "    # enables new_dummy_symbol = \"\\square\"\n",
    "    plt.rc('text.latex', preamble=r'\\usepackage{amssymb} \\usepackage{xcolor}')\n",
    "    plt.rc('font', size=32)\n",
    "\n",
    "    # Fig\n",
    "    fig, ax = plt.subplots(1, 1, figsize=figsize)\n",
    "    ax.plot(pareto_front_complexities, pareto_front_rmse, 'r-')\n",
    "    ax.plot(pareto_front_complexities, pareto_front_rmse, 'ro')\n",
    "\n",
    "    # Limits\n",
    "    xmin = pareto_front_complexities.min() + delta_xlim[0]\n",
    "    xmax = pareto_front_complexities.max() + delta_xlim[1]\n",
    "    ymin = pareto_front_rmse.min() + delta_ylim[0]\n",
    "    ymax = pareto_front_rmse.max() + delta_ylim[1]\n",
    "    ax.set_xlim(xmin, xmax)\n",
    "    ax.set_ylim(ymin, ymax)\n",
    "\n",
    "    # Axes labels\n",
    "    ax.set_xlabel(\"Expression complexity\")\n",
    "    ax.set_ylabel(\"RMSE\")\n",
    "\n",
    "\n",
    "    for i_prog in range (len(pareto_front_programs)):\n",
    "        prog = pareto_front_programs[i_prog]\n",
    "\n",
    "        text_pos  = [pareto_front_complexities[i_prog] + frac_delta_equ[0]*(xmax-xmin), \n",
    "                     pareto_front_rmse[i_prog]         + frac_delta_equ[1]*(ymax-ymin)]\n",
    "        # Getting latex expr\n",
    "        latex_str = prog.get_infix_latex(do_simplify = do_simplify)\n",
    "        # Adding \"superparent =\" before program to make it pretty\n",
    "        if show_superparent_at_beginning:\n",
    "            latex_str = prog.library.superparent.name + ' =' + latex_str\n",
    "\n",
    "\n",
    "        ax.text(text_pos[0], text_pos[1], f'${latex_str}$', size = eq_text_size)"
   ]
  },
  {
   "cell_type": "code",
   "execution_count": null,
   "id": "04fab56f-9699-4a81-8d7c-c721623c7bc3",
   "metadata": {
    "pycharm": {
     "name": "#%%\n"
    }
   },
   "outputs": [],
   "source": [
    "plot_pareto_front(run_logger)\n"
   ]
  },
  {
   "cell_type": "markdown",
   "id": "243f97a1-cc4a-4a49-91ec-0afcb02ee518",
   "metadata": {},
   "source": [
    "### Complexity - accuracy optimums"
   ]
  },
  {
   "cell_type": "code",
   "execution_count": null,
   "id": "12d8a853-59a0-46a4-afe3-5160f2d63753",
   "metadata": {
    "pycharm": {
     "name": "#%%\n"
    }
   },
   "outputs": [],
   "source": [
    "pareto_front_complexities, pareto_front_programs, pareto_front_r, pareto_front_rmse = run_logger.get_pareto_front()\n"
   ]
  },
  {
   "cell_type": "code",
   "execution_count": null,
   "id": "fc996840-28c0-4f84-a31a-f7c0ab3e5f92",
   "metadata": {
    "pycharm": {
     "name": "#%%\n"
    }
   },
   "outputs": [],
   "source": [
    "for prog in pareto_front_programs:\n",
    "    prog.show_infix(do_simplify=True)\n",
    "    free_consts = prog.free_const_values.detach().cpu().numpy()\n",
    "    for i in range (len(free_consts)):\n",
    "        print(\"%s = %f\"%(prog.library.free_const_names[i], free_consts[i]))"
   ]
  },
  {
   "cell_type": "code",
   "execution_count": null,
   "id": "84e4a83b-9b43-4efb-b04c-14c4bb903fdc",
   "metadata": {},
   "outputs": [],
   "source": []
  },
  {
   "cell_type": "code",
   "execution_count": null,
   "id": "ca2a6abd-1a1b-40d8-92e7-68a9ef7d866e",
   "metadata": {},
   "outputs": [],
   "source": []
  }
 ],
 "metadata": {
  "kernelspec": {
   "display_name": "Python 3 (ipykernel)",
   "language": "python",
   "name": "python3"
  },
  "language_info": {
   "codemirror_mode": {
    "name": "ipython",
    "version": 3
   },
   "file_extension": ".py",
   "mimetype": "text/x-python",
   "name": "python",
   "nbconvert_exporter": "python",
   "pygments_lexer": "ipython3",
   "version": "3.8.16"
  }
 },
 "nbformat": 4,
 "nbformat_minor": 5
}
